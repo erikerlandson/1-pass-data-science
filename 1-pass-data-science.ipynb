{
 "cells": [
  {
   "cell_type": "markdown",
   "metadata": {},
   "source": [
    "## PySpark imports for ML and Dataframe"
   ]
  },
  {
   "cell_type": "code",
   "execution_count": 2,
   "metadata": {
    "collapsed": true
   },
   "outputs": [],
   "source": [
    "from pyspark.sql.functions import *\n",
    "from pyspark.ml.feature import VectorAssembler\n",
    "from pyspark.ml.classification import LogisticRegression"
   ]
  },
  {
   "cell_type": "markdown",
   "metadata": {},
   "source": [
    "## Plotting routines"
   ]
  },
  {
   "cell_type": "code",
   "execution_count": 65,
   "metadata": {
    "collapsed": true
   },
   "outputs": [],
   "source": [
    "import numpy as np\n",
    "import seaborn as sns\n",
    "import pandas as pd\n",
    "import matplotlib.pyplot as plt\n",
    "sns.set()\n",
    "%matplotlib inline"
   ]
  },
  {
   "cell_type": "markdown",
   "metadata": {},
   "source": [
    "## Isarn: Feature Importance Using Generative T-Digests"
   ]
  },
  {
   "cell_type": "code",
   "execution_count": 1,
   "metadata": {
    "collapsed": true
   },
   "outputs": [],
   "source": [
    "from isarnproject.pipelines.fi import *"
   ]
  },
  {
   "cell_type": "markdown",
   "metadata": {},
   "source": [
    "### Load Tox21 data from CSV to Dataframes"
   ]
  },
  {
   "cell_type": "code",
   "execution_count": 10,
   "metadata": {
    "collapsed": false
   },
   "outputs": [],
   "source": [
    "def loadCSV(fname):\n",
    "    return spark.read \\\n",
    "        .format(\"com.databricks.spark.csv\") \\\n",
    "        .option(\"header\", \"true\") \\\n",
    "        .option(\"mode\", \"DROPMALFORMED\") \\\n",
    "        .load(fname)"
   ]
  },
  {
   "cell_type": "code",
   "execution_count": 11,
   "metadata": {
    "collapsed": true
   },
   "outputs": [],
   "source": [
    "trainCSV = loadCSV(\"./tox21/tox21_dense_train.csv\")\n",
    "testCSV = loadCSV(\"./tox21/tox21_dense_test.csv\")\n",
    "trainLabelsCSV = loadCSV(\"./tox21/tox21_labels_train.csv\")\n",
    "testLabelsCSV = loadCSV(\"./tox21/tox21_labels_test.csv\")"
   ]
  },
  {
   "cell_type": "markdown",
   "metadata": {},
   "source": [
    "### There are 12 toxicity assays"
   ]
  },
  {
   "cell_type": "code",
   "execution_count": 12,
   "metadata": {
    "collapsed": false,
    "scrolled": true
   },
   "outputs": [
    {
     "data": {
      "text/plain": [
       "['NR.AhR',\n",
       " 'NR.AR',\n",
       " 'NR.AR.LBD',\n",
       " 'NR.Aromatase',\n",
       " 'NR.ER',\n",
       " 'NR.ER.LBD',\n",
       " 'NR.PPAR.gamma',\n",
       " 'SR.ARE',\n",
       " 'SR.ATAD5',\n",
       " 'SR.HSE',\n",
       " 'SR.MMP',\n",
       " 'SR.p53']"
      ]
     },
     "execution_count": 12,
     "metadata": {},
     "output_type": "execute_result"
    }
   ],
   "source": [
    "depVars = trainLabelsCSV.columns[1:]\n",
    "depVars"
   ]
  },
  {
   "cell_type": "markdown",
   "metadata": {},
   "source": [
    "### Labeled sub-sets are different for each assay"
   ]
  },
  {
   "cell_type": "code",
   "execution_count": 13,
   "metadata": {
    "collapsed": false
   },
   "outputs": [
    {
     "name": "stdout",
     "output_type": "stream",
     "text": [
      "+------+-----+---------+------------+-----+---------+-------------+------+--------+------+------+------+\n",
      "|NR.AhR|NR.AR|NR.AR.LBD|NR.Aromatase|NR.ER|NR.ER.LBD|NR.PPAR.gamma|SR.ARE|SR.ATAD5|SR.HSE|SR.MMP|SR.p53|\n",
      "+------+-----+---------+------------+-----+---------+-------------+------+--------+------+------+------+\n",
      "|    NA|   NA|       NA|          NA|   NA|       NA|           NA|    NA|      NA|     0|    NA|    NA|\n",
      "|    NA|   NA|       NA|          NA|   NA|       NA|           NA|    NA|      NA|     0|    NA|    NA|\n",
      "|    NA|   NA|       NA|          NA|   NA|       NA|           NA|    NA|      NA|     0|    NA|    NA|\n",
      "|    NA|   NA|       NA|          NA|   NA|       NA|           NA|    NA|      NA|     1|    NA|    NA|\n",
      "|    NA|    0|       NA|          NA|   NA|       NA|           NA|    NA|      NA|    NA|    NA|    NA|\n",
      "|    NA|   NA|       NA|          NA|   NA|       NA|           NA|    NA|      NA|     1|    NA|    NA|\n",
      "|    NA|   NA|       NA|          NA|   NA|       NA|           NA|    NA|      NA|     1|    NA|    NA|\n",
      "|    NA|   NA|       NA|          NA|   NA|       NA|           NA|    NA|      NA|     1|    NA|    NA|\n",
      "|    NA|    0|       NA|          NA|   NA|       NA|           NA|    NA|      NA|    NA|    NA|    NA|\n",
      "|    NA|    0|       NA|          NA|   NA|       NA|           NA|    NA|      NA|    NA|    NA|    NA|\n",
      "|    NA|    0|       NA|          NA|   NA|       NA|           NA|    NA|      NA|    NA|    NA|    NA|\n",
      "|    NA|   NA|       NA|          NA|   NA|       NA|           NA|    NA|      NA|     0|    NA|    NA|\n",
      "|    NA|   NA|       NA|          NA|   NA|       NA|           NA|     0|      NA|    NA|    NA|    NA|\n",
      "|    NA|   NA|       NA|          NA|   NA|       NA|           NA|     0|      NA|    NA|    NA|    NA|\n",
      "|    NA|   NA|       NA|          NA|   NA|       NA|           NA|     1|      NA|    NA|    NA|    NA|\n",
      "|    NA|   NA|       NA|          NA|   NA|       NA|           NA|    NA|      NA|     0|    NA|    NA|\n",
      "|    NA|   NA|       NA|          NA|   NA|       NA|           NA|     1|      NA|    NA|    NA|    NA|\n",
      "|    NA|    0|       NA|          NA|   NA|       NA|           NA|    NA|      NA|    NA|    NA|    NA|\n",
      "|    NA|   NA|       NA|          NA|   NA|       NA|           NA|     1|      NA|    NA|    NA|    NA|\n",
      "|    NA|   NA|       NA|          NA|   NA|       NA|           NA|    NA|      NA|     1|    NA|    NA|\n",
      "+------+-----+---------+------------+-----+---------+-------------+------+--------+------+------+------+\n",
      "only showing top 20 rows\n",
      "\n"
     ]
    }
   ],
   "source": [
    "trainLabelsCSV.drop(\"_c0\").show()"
   ]
  },
  {
   "cell_type": "markdown",
   "metadata": {},
   "source": [
    "### About 2/3 of samples are labeled for each assay"
   ]
  },
  {
   "cell_type": "code",
   "execution_count": 14,
   "metadata": {
    "collapsed": false
   },
   "outputs": [
    {
     "data": {
      "text/plain": [
       "[8441, 9654, 8852, 7440, 7962, 9040, 8451, 7401, 9363, 8417, 7558, 8903]"
      ]
     },
     "execution_count": 14,
     "metadata": {},
     "output_type": "execute_result"
    }
   ],
   "source": [
    "[trainLabelsCSV.select(\"`\"+c+\"`\").filter(col(\"`\"+c+\"`\") != \"NA\").count() for c in depVars]"
   ]
  },
  {
   "cell_type": "markdown",
   "metadata": {},
   "source": [
    "### Convert individual feature columns to ML Vectors"
   ]
  },
  {
   "cell_type": "code",
   "execution_count": 15,
   "metadata": {
    "collapsed": false
   },
   "outputs": [],
   "source": [
    "vectorAssembler = VectorAssembler(inputCols=trainCSV.columns[1:], outputCol=\"features\")\n",
    "castToDouble = [col(c).cast(\"Double\").alias(c) for c in vectorAssembler.getInputCols()]\n",
    "\n",
    "trainFV = vectorAssembler.transform(trainCSV.select(\"_c0\", *castToDouble)).select(\"_c0\", \"features\").repartition(8).cache()\n",
    "testFV = vectorAssembler.transform(testCSV.select(\"_c0\", *castToDouble)).select(\"_c0\", \"features\").repartition(8).cache()"
   ]
  },
  {
   "cell_type": "code",
   "execution_count": 16,
   "metadata": {
    "collapsed": false
   },
   "outputs": [],
   "source": [
    "def labDef(lc, fData, lData):\n",
    "    lcol = \"`\" + lc + \"`\"\n",
    "    ldef = lData.filter(col(lcol) != \"NA\").select(\"_c0\", *[(col(lcol).cast(\"Double\").alias(\"label\"))])\n",
    "    return ldef.join(fData, \"_c0\")"
   ]
  },
  {
   "cell_type": "markdown",
   "metadata": {},
   "source": [
    "### For each assay: identify the labeled sub-set and sync with the feature vectors"
   ]
  },
  {
   "cell_type": "code",
   "execution_count": 17,
   "metadata": {
    "collapsed": false
   },
   "outputs": [],
   "source": [
    "trainSets = dict([(y, labDef(y, trainFV, trainLabelsCSV)) for y in depVars])\n",
    "testSets = dict([(y, labDef(y, testFV, testLabelsCSV)) for y in depVars])"
   ]
  },
  {
   "cell_type": "markdown",
   "metadata": {},
   "source": [
    "### For each assay: Fit a toxicity model using Logistic Regression"
   ]
  },
  {
   "cell_type": "code",
   "execution_count": 20,
   "metadata": {
    "collapsed": false
   },
   "outputs": [],
   "source": [
    "lr = LogisticRegression(maxIter=20)\n",
    "lrModels = dict([(y, lr.fit(trainSets[y])) for y in depVars])"
   ]
  },
  {
   "cell_type": "markdown",
   "metadata": {},
   "source": [
    "## Fit a Feature Importance model to the training data\n",
    "### A T-Digest sketch of the value distribution for each feature"
   ]
  },
  {
   "cell_type": "code",
   "execution_count": 22,
   "metadata": {
    "collapsed": true
   },
   "outputs": [],
   "source": [
    "fi = TDigestFI() \\\n",
    "    .setDelta(0.5) \\\n",
    "    .setMaxDiscrete(50)\n",
    "\n",
    "fiModel = fi.fit(trainFV) \\\n",
    "    .setFeatureNames(trainCSV.columns[1:])"
   ]
  },
  {
   "cell_type": "markdown",
   "metadata": {},
   "source": [
    "## For each Toxicity Model: Apply the Feature Importance model"
   ]
  },
  {
   "cell_type": "code",
   "execution_count": 83,
   "metadata": {
    "collapsed": false
   },
   "outputs": [],
   "source": [
    "imps = dict([(y, \\\n",
    "              fiModel.setTargetModel(lrModels[y]) \\\n",
    "                  .transform(trainSets[y]) \\\n",
    "                  .sort(-col(\"importance\"))) \\\n",
    "             for y in depVars])"
   ]
  },
  {
   "cell_type": "markdown",
   "metadata": {},
   "source": [
    "## Features and their Importance, sorted descending"
   ]
  },
  {
   "cell_type": "code",
   "execution_count": 81,
   "metadata": {
    "collapsed": false
   },
   "outputs": [
    {
     "name": "stdout",
     "output_type": "stream",
     "text": [
      "+----------+--------------------+\n",
      "|      name|          importance|\n",
      "+----------+--------------------+\n",
      "| slogPVSA9|0.022864589503613315|\n",
      "| slogPVSA7|0.017533467598625754|\n",
      "|    MRVSA9|0.014334794455633218|\n",
      "|    MATSm1|0.011609998815306243|\n",
      "|  PEOEVSA7| 0.01042530505864234|\n",
      "|EstateVSA8| 0.00995142755597678|\n",
      "|EstateVSA5|   0.009714488804644|\n",
      "| PEOEVSA12|0.009240611301978438|\n",
      "|  Petitj3D|0.008885203174979268|\n",
      "|     FNSA3|0.008766733799312877|\n",
      "|    GATSm8|0.008766733799312877|\n",
      "|    MATSv5|0.008648264423646487|\n",
      "|    MRVSA2|0.008529795047980097|\n",
      "|    GATSm5|0.008292856296647317|\n",
      "|  PEOEVSA5|0.008174386920980926|\n",
      "|      RASA|0.008174386920980926|\n",
      "|slogPVSA10|0.008055917545314536|\n",
      "|     nphos|0.007937448169648146|\n",
      "|    MATSe2|0.007937448169648146|\n",
      "|     PNSA3|0.007937448169648146|\n",
      "+----------+--------------------+\n",
      "only showing top 20 rows\n",
      "\n"
     ]
    }
   ],
   "source": [
    "imps['NR.AhR'].show()"
   ]
  },
  {
   "cell_type": "markdown",
   "metadata": {},
   "source": [
    "### Extract importance values to a pandas DataFrame"
   ]
  },
  {
   "cell_type": "code",
   "execution_count": 66,
   "metadata": {
    "collapsed": false
   },
   "outputs": [],
   "source": [
    "rawImps = pd.DataFrame(dict([(y, imps[y].select(\"importance\").rdd.map(lambda r: r[0]).collect()) for y in depVars]))"
   ]
  },
  {
   "cell_type": "markdown",
   "metadata": {},
   "source": [
    "## Histogram the Feature Importances for a Toxicity Model\n",
    "## Distribution is Zipfian"
   ]
  },
  {
   "cell_type": "code",
   "execution_count": 91,
   "metadata": {
    "collapsed": false,
    "scrolled": true
   },
   "outputs": [
    {
     "data": {
      "text/plain": [
       "<matplotlib.axes._subplots.AxesSubplot at 0x7f68a2c3a210>"
      ]
     },
     "execution_count": 91,
     "metadata": {},
     "output_type": "execute_result"
    },
    {
     "data": {
      "image/png": "[encoded data removed]",
      "text/plain": [
       "<matplotlib.figure.Figure at 0x7f68a2930950>"
      ]
     },
     "metadata": {},
     "output_type": "display_data"
    }
   ],
   "source": [
    "fig, ax = plt.subplots()\n",
    "fig.set_size_inches(16, 8)\n",
    "ax.axes.xaxis.set_label_text(\"importance\")\n",
    "ax.axes.yaxis.set_label_text(\"frequency\")\n",
    "sns.distplot(rawImps['NR.AhR'], kde=False, ax=ax)"
   ]
  },
  {
   "cell_type": "markdown",
   "metadata": {},
   "source": [
    "## Visualize the Feature Importances for all Toxicity Models"
   ]
  },
  {
   "cell_type": "code",
   "execution_count": 92,
   "metadata": {
    "collapsed": false
   },
   "outputs": [
    {
     "data": {
      "text/plain": [
       "<matplotlib.axes._subplots.AxesSubplot at 0x7f68a25b3a90>"
      ]
     },
     "execution_count": 92,
     "metadata": {},
     "output_type": "execute_result"
    },
    {
     "data": {
      "image/png": "[encoded data removed]",
      "text/plain": [
       "<matplotlib.figure.Figure at 0x7f68a2776710>"
      ]
     },
     "metadata": {},
     "output_type": "display_data"
    }
   ],
   "source": [
    "fig, ax = plt.subplots()\n",
    "fig.set_size_inches(16, 8)\n",
    "ax.axes.xaxis.set_label_text(\"toxicity measure\")\n",
    "ax.axes.yaxis.set_label_text(\"importance\")\n",
    "for tick in ax.get_xticklabels():\n",
    "    tick.set_rotation(10)\n",
    "sns.violinplot(data=rawImps, inner=\"points\", scale=\"width\", cut=0, ax=ax)"
   ]
  },
  {
   "cell_type": "code",
   "execution_count": null,
   "metadata": {
    "collapsed": true
   },
   "outputs": [],
   "source": []
  }
 ],
 "metadata": {
  "kernelspec": {
   "display_name": "Python 2",
   "language": "python",
   "name": "python2"
  },
  "language_info": {
   "codemirror_mode": {
    "name": "ipython",
    "version": 2
   },
   "file_extension": ".py",
   "mimetype": "text/x-python",
   "name": "python",
   "nbconvert_exporter": "python",
   "pygments_lexer": "ipython2",
   "version": "2.7.13"
  }
 },
 "nbformat": 4,
 "nbformat_minor": 0
}
